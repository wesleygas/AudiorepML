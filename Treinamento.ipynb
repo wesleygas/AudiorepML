{
 "cells": [
  {
   "cell_type": "code",
   "execution_count": 1,
   "metadata": {},
   "outputs": [],
   "source": [
    "import os\n",
    "from os.path import join as pjoin\n",
    "from scipy.io import wavfile\n",
    "import numpy as np\n",
    "import matplotlib as mpl\n",
    "import matplotlib.pyplot as plt\n",
    "import tensorflow as tf\n",
    "from tensorflow import keras\n",
    "from tqdm import tqdm\n",
    "tf.config.list_physical_devices('GPU')\n",
    "\n",
    "original_data_dir = pjoin(os.getcwd(),\"..\\\\AudioFiles\",\"wavs\")\n",
    "compressed_data_dir = pjoin(os.getcwd(),\"..\\\\AudioFiles\",\"medio\")\n",
    "original_fname = pjoin(original_data_dir, '55_tdcast.wav')\n",
    "compressed_fname = pjoin(compressed_data_dir, '55_tdcast.wav')"
   ]
  },
  {
   "cell_type": "code",
   "execution_count": 2,
   "metadata": {},
   "outputs": [
    {
     "name": "stdout",
     "output_type": "stream",
     "text": [
      "number of channels = 2\n",
      "length = 1379.4220408163264s\n"
     ]
    },
    {
     "name": "stderr",
     "output_type": "stream",
     "text": [
      "<ipython-input-2-9493e236311b>:7: WavFileWarning: Chunk (non-data) not understood, skipping it.\n",
      "  samplerate, compressed_data = wavfile.read(compressed_fname)\n"
     ]
    }
   ],
   "source": [
    "samplerate, original_data = wavfile.read(original_fname)\n",
    "print(f\"number of channels = {original_data.shape[1]}\")\n",
    "\n",
    "length = original_data.shape[0] / samplerate\n",
    "print(f\"length = {length}s\")\n",
    "\n",
    "samplerate, compressed_data = wavfile.read(compressed_fname)"
   ]
  },
  {
   "cell_type": "code",
   "execution_count": 3,
   "metadata": {},
   "outputs": [
    {
     "data": {
      "image/png": "[encoded data removed]",
      "text/plain": [
       "<Figure size 432x288 with 1 Axes>"
      ]
     },
     "metadata": {
      "needs_background": "light"
     },
     "output_type": "display_data"
    }
   ],
   "source": [
    "import matplotlib.pyplot as plt\n",
    "import numpy as np\n",
    "# time = np.linspace(0., 10000, data.shape[0])\n",
    "plt.plot(original_data[10000:20000, 0], label=\"Left channel\")\n",
    "plt.plot(original_data[10000:20000, 1], label=\"Right channel\")\n",
    "plt.legend()\n",
    "plt.xlabel(\"Time [s]\")\n",
    "plt.ylabel(\"Amplitude\")\n",
    "plt.show()"
   ]
  },
  {
   "cell_type": "code",
   "execution_count": 4,
   "metadata": {},
   "outputs": [],
   "source": [
    "def getSamplesFromFile(file, samplesize):\n",
    "    n_chunks = len(file)//samplesize\n",
    "    return file[:n_chunks*samplesize].reshape(-1,samplesize,1)"
   ]
  },
  {
   "cell_type": "code",
   "execution_count": 5,
   "metadata": {},
   "outputs": [
    {
     "data": {
      "text/plain": [
       "array([[[1],\n",
       "        [2],\n",
       "        [3],\n",
       "        [4],\n",
       "        [5]]])"
      ]
     },
     "execution_count": 5,
     "metadata": {},
     "output_type": "execute_result"
    }
   ],
   "source": [
    "a = np.array([1,2,3,4,5,6,7,2])\n",
    "getSamplesFromFile(a, 5)"
   ]
  },
  {
   "cell_type": "code",
   "execution_count": 6,
   "metadata": {},
   "outputs": [],
   "source": [
    "max_data = np.max(original_data[:, 0].astype(np.float32))"
   ]
  },
  {
   "cell_type": "code",
   "execution_count": 7,
   "metadata": {},
   "outputs": [],
   "source": [
    "samplesize = 50\n",
    "data = original_data[:, 0].astype(np.float32)\n",
    "data = data/np.max(data)\n",
    "y = getSamplesFromFile(original_data, samplesize)\n",
    "X = getSamplesFromFile(compressed_data, samplesize)"
   ]
  },
  {
   "cell_type": "code",
   "execution_count": 8,
   "metadata": {},
   "outputs": [],
   "source": [
    "val_start = int(len(X)*.9)\n",
    "X_train,X_valid = X[:val_start],X[val_start:]\n",
    "Y_train,Y_valid = y[:val_start],y[val_start:]\n"
   ]
  },
  {
   "cell_type": "code",
   "execution_count": 12,
   "metadata": {},
   "outputs": [
    {
     "name": "stdout",
     "output_type": "stream",
     "text": [
      "Model: \"sequential_2\"\n",
      "_________________________________________________________________\n",
      "Layer (type)                 Output Shape              Param #   \n",
      "=================================================================\n",
      "lstm_2 (LSTM)                (None, 50)                10400     \n",
      "=================================================================\n",
      "Total params: 10,400\n",
      "Trainable params: 10,400\n",
      "Non-trainable params: 0\n",
      "_________________________________________________________________\n"
     ]
    }
   ],
   "source": [
    "#\n",
    "np.random.seed(42)\n",
    "tf.random.set_seed(42)\n",
    "\n",
    "model = keras.models.Sequential([\n",
    "    \n",
    "    keras.layers.LSTM(samplesize, return_sequences=False,input_shape=[None,  1])\n",
    "])\n",
    "\n",
    "model.summary()\n"
   ]
  },
  {
   "cell_type": "code",
   "execution_count": 13,
   "metadata": {},
   "outputs": [],
   "source": [
    "model.compile(loss=\"mse\", optimizer=\"adam\")"
   ]
  },
  {
   "cell_type": "code",
   "execution_count": 14,
   "metadata": {},
   "outputs": [
    {
     "name": "stdout",
     "output_type": "stream",
     "text": [
      "(2189970, 50, 1) (243330, 50, 1)\n",
      "(2189970, 50, 1) (243330, 50, 1)\n"
     ]
    }
   ],
   "source": [
    "print(X_train.shape, X_valid.shape)\n",
    "print(Y_train.shape, Y_valid.shape)"
   ]
  },
  {
   "cell_type": "code",
   "execution_count": 17,
   "metadata": {},
   "outputs": [
    {
     "name": "stdout",
     "output_type": "stream",
     "text": [
      "Epoch 1/10\n",
      "2139/2139 [==============================] - 23s 11ms/step - loss: 20683212.0000 - val_loss: 22273012.0000\n",
      "Epoch 2/10\n",
      "2139/2139 [==============================] - 23s 11ms/step - loss: 20683216.0000 - val_loss: 22272894.0000\n",
      "Epoch 3/10\n",
      "2139/2139 [==============================] - 23s 11ms/step - loss: 20683108.0000 - val_loss: 22272976.0000\n",
      "Epoch 4/10\n",
      "2139/2139 [==============================] - 23s 11ms/step - loss: 20683088.0000 - val_loss: 22272856.0000\n",
      "Epoch 5/10\n",
      "2139/2139 [==============================] - 23s 11ms/step - loss: 20683080.0000 - val_loss: 22272892.0000\n",
      "Epoch 6/10\n",
      "2139/2139 [==============================] - 23s 11ms/step - loss: 20683074.0000 - val_loss: 22272782.0000\n",
      "Epoch 7/10\n",
      "2139/2139 [==============================] - 24s 11ms/step - loss: 20683166.0000 - val_loss: 22272894.0000\n",
      "Epoch 8/10\n",
      "2139/2139 [==============================] - 23s 11ms/step - loss: 20683134.0000 - val_loss: 22272856.0000\n",
      "Epoch 9/10\n",
      "2139/2139 [==============================] - 23s 11ms/step - loss: 20683132.0000 - val_loss: 22272806.0000\n",
      "Epoch 10/10\n",
      "2139/2139 [==============================] - 23s 11ms/step - loss: 20683134.0000 - val_loss: 22272874.0000\n"
     ]
    }
   ],
   "source": [
    "history = model.fit(X_train, Y_train, epochs=10, batch_size=1024,\n",
    "                    validation_data=(X_valid, Y_valid))"
   ]
  },
  {
   "cell_type": "code",
   "execution_count": 18,
   "metadata": {},
   "outputs": [
    {
     "name": "stdout",
     "output_type": "stream",
     "text": [
      "WARNING:tensorflow:From C:\\Users\\Wesley\\.conda\\envs\\tf\\lib\\site-packages\\tensorflow\\python\\ops\\resource_variable_ops.py:1813: calling BaseResourceVariable.__init__ (from tensorflow.python.ops.resource_variable_ops) with constraint is deprecated and will be removed in a future version.\n",
      "Instructions for updating:\n",
      "If using Keras pass *_constraint arguments to layers.\n",
      "INFO:tensorflow:Assets written to: ./checkpoints/lstmodel\\assets\n"
     ]
    }
   ],
   "source": [
    "model.save('./checkpoints/lstmodel')"
   ]
  },
  {
   "cell_type": "code",
   "execution_count": 23,
   "metadata": {},
   "outputs": [],
   "source": [
    "import time\n",
    "a = time.perf_counter()\n",
    "predicted = model.predict(X_valid[:10000])\n",
    "b = time.perf_counter()"
   ]
  },
  {
   "cell_type": "code",
   "execution_count": 24,
   "metadata": {},
   "outputs": [
    {
     "name": "stdout",
     "output_type": "stream",
     "text": [
      "Velocidade de previsão: 0.005746605358386659\n"
     ]
    }
   ],
   "source": [
    "audio_validacao = X_valid.reshape(-1)\n",
    "print(f\"Velocidade de previsão: {(100/samplerate)/(b-a)}\")"
   ]
  },
  {
   "cell_type": "code",
   "execution_count": 26,
   "metadata": {},
   "outputs": [
    {
     "data": {
      "text/plain": [
       "(10000, 50)"
      ]
     },
     "execution_count": 26,
     "metadata": {},
     "output_type": "execute_result"
    }
   ],
   "source": [
    "predicted.shape"
   ]
  },
  {
   "cell_type": "code",
   "execution_count": 32,
   "metadata": {},
   "outputs": [],
   "source": [
    "import simpleaudio as sa\n",
    "def play_seq(seq, volume):\n",
    "    normalization = 32767 / np.max(np.abs(seq))\n",
    "    audio = (seq.reshape(-1)*normalization*volume).astype(np.int16)\n",
    "    play_obj = sa.play_buffer(audio, 1, 2, samplerate)\n",
    "    return play_obj"
   ]
  },
  {
   "cell_type": "code",
   "execution_count": 33,
   "metadata": {},
   "outputs": [],
   "source": [
    "x = play_seq(predicted, .1) #Predito"
   ]
  },
  {
   "cell_type": "code",
   "execution_count": 34,
   "metadata": {},
   "outputs": [],
   "source": [
    "def save_seq(name,seq, volume, samplerate):\n",
    "    normalization = 32767 / np.max(np.abs(seq))\n",
    "    audio = (seq.reshape(-1)*normalization*volume).astype(np.int16)\n",
    "    wavfile.write(name,samplerate*2,audio)"
   ]
  },
  {
   "cell_type": "code",
   "execution_count": 35,
   "metadata": {},
   "outputs": [],
   "source": [
    "save_seq(\"predicted.wav\", predicted, .5, samplerate)"
   ]
  },
  {
   "cell_type": "code",
   "execution_count": 39,
   "metadata": {},
   "outputs": [
    {
     "data": {
      "image/png": "[encoded data removed]",
      "text/plain": [
       "<Figure size 720x432 with 1 Axes>"
      ]
     },
     "metadata": {
      "needs_background": "light"
     },
     "output_type": "display_data"
    }
   ],
   "source": [
    "base = 8000\n",
    "amount = 100\n",
    "plt.figure(figsize=(10,6))\n",
    "plt.title(\"Comparação dos áudios - ConvDens\")\n",
    "plt.plot(predicted[base:base+amount].reshape(-1), label=\"previsão\", alpha=.7)\n",
    "#plt.plot(Y_valid[base:base+amount].reshape(-1), label=\"original\", alpha=.7)\n",
    "plt.legend()\n",
    "plt.savefig(\"convconv-prevorig.png\")\n",
    "plt.show()"
   ]
  },
  {
   "cell_type": "code",
   "execution_count": null,
   "metadata": {},
   "outputs": [],
   "source": []
  }
 ],
 "metadata": {
  "kernelspec": {
   "display_name": "Python 3",
   "language": "python",
   "name": "python3"
  },
  "language_info": {
   "codemirror_mode": {
    "name": "ipython",
    "version": 3
   },
   "file_extension": ".py",
   "mimetype": "text/x-python",
   "name": "python",
   "nbconvert_exporter": "python",
   "pygments_lexer": "ipython3",
   "version": "3.8.2"
  }
 },
 "nbformat": 4,
 "nbformat_minor": 4
}
